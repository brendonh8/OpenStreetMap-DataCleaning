{
 "cells": [
  {
   "cell_type": "markdown",
   "metadata": {},
   "source": [
    "# Project: Wrangle OpenStreetMap Data\n",
    "\n",
    "### Map Area: Denver, CO\n",
    "\n",
    " - https://mapzen.com/data/metro-extracts/metro/denver-boulder_colorado/\n",
    " - https://www.openstreetmap.org/relation/253750\n",
    "\n",
    "I have always considered moving to Denver, so I decided to use the area for this project. I am interested in the information I will get from the data."
   ]
  },
  {
   "cell_type": "markdown",
   "metadata": {},
   "source": [
    "## Problems Encountered in the Map\n",
    "\n",
    "Outputting the values for various data types revealed many problems that the data had. Some of the problems was formatting, and some was for incorrect entries. I decided to focus on a couple of these problems.\n",
    "\n",
    " - Abbreviated street types (\"Apache Dr\")\n",
    " \n",
    " \n",
    " - Incorrect city names (\"Centenn\")\n",
    " \n",
    " \n",
    " - Cities with the state included (\"Aurora, CO\")\n",
    " \n",
    " \n",
    " - Cities in all caps or all lowercase\n",
    " \n",
    " \n",
    " - Invalid phone number with less than 10 numbers\n",
    " \n",
    " \n",
    " - Different phone number formats\n",
    " \n",
    " \n",
    " - Two numbers in the same entry (\"303-759-0316;720-666-3971\")\n",
    " \n",
    " "
   ]
  },
  {
   "cell_type": "markdown",
   "metadata": {},
   "source": [
    "### Cleaning Street Names\n",
    "\n",
    "Running a function in Python to return a set of all the street names revealed that quite a few street types have been abbreviated. Using regular expressions to find the street names made it easy to find the ending street type of each name. Then all of the abbreviated names were substituted with the full street type name from a list of mapping values "
   ]
  },
  {
   "cell_type": "code",
   "execution_count": 1,
   "metadata": {
    "collapsed": true
   },
   "outputs": [],
   "source": [
    "def update_name(name, mapping):\n",
    "\n",
    "    m = street_type_re.search(name)\n",
    "    other_st = []\n",
    "    if m:\n",
    "        street_type = m.group()\n",
    "        if street_type in mapping.keys():\n",
    "            name = re.sub(street_type_re, mapping[street_type], name)\n",
    "        else:\n",
    "            other_st.append(street_type)\n",
    "    return name"
   ]
  },
  {
   "cell_type": "markdown",
   "metadata": {},
   "source": [
    "### Cleaning City Names\n",
    "\n",
    "Fixing the city name data used a similar solution as the street names. Using a regular expression to find every instance that CO is included, I was able to substitute it for an empty string. Some of the values were input as unicode so I had to encode those first. Then I could capitalize all the values and apply another mapping function to correct any incorectly entered names"
   ]
  },
  {
   "cell_type": "code",
   "execution_count": 2,
   "metadata": {
    "collapsed": true
   },
   "outputs": [],
   "source": [
    "def updateCity(city, cityMapping):\n",
    "    if type(city) == unicode:\n",
    "        city = city.encode('ascii', 'ignore')\n",
    "    # Remove the state at end\n",
    "    city = re.sub(r'(?i),? (co)*\\d*$', '', city)\n",
    "    city = string.capwords(city)\n",
    "    city = mapCities(city, cityMapping)\n",
    "    return city"
   ]
  },
  {
   "cell_type": "markdown",
   "metadata": {},
   "source": [
    "Once the city names were clean, I could run a query to observe the amount of entries for each city"
   ]
  },
  {
   "cell_type": "code",
   "execution_count": null,
   "metadata": {
    "collapsed": true
   },
   "outputs": [],
   "source": [
    "df1 = pd.read_sql_query('SELECT tags.value, COUNT(*) as count \\\n",
    "                        FROM (SELECT * FROM nodes_tags UNION ALL \\\n",
    "                              SELECT * FROM ways_tags) tags \\\n",
    "                        WHERE tags.key LIKE  \"city\" \\\n",
    "                        GROUP BY tags.value \\\n",
    "                        ORDER BY count DESC;', conn)"
   ]
  },
  {
   "cell_type": "markdown",
   "metadata": {},
   "source": [
    "This output the following data for the first five entries:\n",
    "\n",
    "|value|count|\n",
    "|-----------|\n",
    "|Denver|29522|\n",
    "|Lafayette|3684|\n",
    "|Boulder|3263|\n",
    "|Aurora|1915|\n",
    "|Broomfield|1005|\n",
    "Overall there was a total of 80 unique cities. The bulk being in the largest city Denver, but also gathering data from quite a few neighboring towns in the area."
   ]
  },
  {
   "cell_type": "markdown",
   "metadata": {},
   "source": [
    "### Cleaning Phone Numbers\n",
    "\n",
    "The phone numbers required some more extensive cleaning than the street and city names. I wanted all of the data to be in the same format to be easy to read. Looking through the data, some of the numbers were entered with two numbers but not as separate values. By using a short regular expression:"
   ]
  },
  {
   "cell_type": "code",
   "execution_count": 4,
   "metadata": {
    "collapsed": true
   },
   "outputs": [],
   "source": [
    "findMultiples = re.compile(r'[\\;]')\n",
    "match = re.search(findMultiples, phone)"
   ]
  },
  {
   "cell_type": "markdown",
   "metadata": {},
   "source": [
    "I was able to find any instances where two numbers were in the same entry and separate them. Then, I decided that any numbers were less than 10 characters were not valid and shouldn't be included with the data so the invalid numebers were removed. By using another regular expression: "
   ]
  },
  {
   "cell_type": "code",
   "execution_count": null,
   "metadata": {
    "collapsed": true
   },
   "outputs": [],
   "source": [
    "correctFormat = re.compile(r'^(\\+1) /(\\d{3}/) \\d{3}-\\d{4}')"
   ]
  },
  {
   "cell_type": "markdown",
   "metadata": {},
   "source": [
    "I could find any data that had the correct format that I wanted and return it. If the number was not in this format, I removed any characters except for the numbers. This made it easy to then put each number into the same format with the following code:"
   ]
  },
  {
   "cell_type": "code",
   "execution_count": null,
   "metadata": {
    "collapsed": true
   },
   "outputs": [],
   "source": [
    "def standardize(phone):\n",
    "    # Remove everything but the number\n",
    "    phone = [item.replace('(', '').replace(\n",
    "        ')', '').replace(' ', '').replace('-', '').replace('.', '')\n",
    "        for item in phone]\n",
    "    phone = \"\".join(phone)\n",
    "    # Put numbers to same format\n",
    "    if phone.startswith('+01'):\n",
    "        phone = '+1 ' + '(' + str(phone[3:6]) + ')' + ' ' \\\n",
    "                + str(phone[6:9]) + '-' + str(phone[9:])\n",
    "    elif phone.startswith('+1'):\n",
    "        phone = '+1 ' + '(' + str(phone[2:5]) + ')' + ' ' \\\n",
    "                + str(phone[5:8]) + '-' + str(phone[8:])\n",
    "    elif phone.startswith('1'):\n",
    "        phone = '+1 ' + '(' + str(phone[1:4]) + ')' + ' ' \\\n",
    "                + str(phone[4:7]) + '-' + str(phone[7:])\n",
    "    else:\n",
    "        phone = '+1 ' + '(' + str(phone[:3]) + ')' + ' ' \\\n",
    "                + str(phone[3:6]) + '-' + str(phone[6:])\n",
    "    return phone"
   ]
  },
  {
   "cell_type": "markdown",
   "metadata": {},
   "source": [
    "## Data Overview\n",
    "\n",
    "### File Sizes\n",
    "\n",
    " - denver-boulder_colorado.osm : 956 MB\n",
    "\n",
    " - mapData.db : 79 MB\n",
    "\n",
    " - nodes_tags.csv : 14.6 MB\n",
    "\n",
    " - nodes.csv : 374.4 MB\n",
    "\n",
    " - ways_nodes.csv : 119.8 MB\n",
    "\n",
    " - ways_tags.csv : 60.8 MB\n",
    "\n",
    " - ways.csv : 30.2 MB\n"
   ]
  },
  {
   "cell_type": "markdown",
   "metadata": {},
   "source": [
    "### Number of Unique Users\n"
   ]
  },
  {
   "cell_type": "code",
   "execution_count": null,
   "metadata": {
    "collapsed": true
   },
   "outputs": [],
   "source": [
    "df2 = pd.read_sql_query('SELECT COUNT(DISTINCT(x.uid)) \\\n",
    "                         FROM (SELECT uid FROM nodes UNION ALL \\\n",
    "                               SELECT uid FROM ways) x;', conn)\n",
    "print df2"
   ]
  },
  {
   "cell_type": "markdown",
   "metadata": {},
   "source": [
    "2294"
   ]
  },
  {
   "cell_type": "markdown",
   "metadata": {},
   "source": [
    "### Number of Nodes"
   ]
  },
  {
   "cell_type": "code",
   "execution_count": 6,
   "metadata": {
    "collapsed": true
   },
   "outputs": [],
   "source": [
    "df3 = pd.read_sql_query('SELECT COUNT(*) FROM nodes;', conn)\n",
    "print df3"
   ]
  },
  {
   "cell_type": "markdown",
   "metadata": {},
   "source": [
    "4360962"
   ]
  },
  {
   "cell_type": "markdown",
   "metadata": {},
   "source": [
    "### Number of Ways"
   ]
  },
  {
   "cell_type": "code",
   "execution_count": null,
   "metadata": {
    "collapsed": true
   },
   "outputs": [],
   "source": [
    "df4 = pd.read_sql_query('SELECT COUNT(*) FROM ways;', conn)\n",
    "print df4"
   ]
  },
  {
   "cell_type": "markdown",
   "metadata": {},
   "source": [
    "487537"
   ]
  },
  {
   "cell_type": "markdown",
   "metadata": {},
   "source": [
    "### Top 10 Contributors"
   ]
  },
  {
   "cell_type": "code",
   "execution_count": null,
   "metadata": {
    "collapsed": true
   },
   "outputs": [],
   "source": [
    "df5 = pd.read_sql_query('SELECT x.user, COUNT(*) as count \\\n",
    "                         FROM (SELECT user FROM nodes UNION ALL \\\n",
    "                               SELECT user FROM ways) x \\\n",
    "                         GROUP BY x.user \\\n",
    "                         ORDER BY count DESC \\\n",
    "                         LIMIT 10;', conn)\n",
    "print df5"
   ]
  },
  {
   "cell_type": "markdown",
   "metadata": {},
   "source": [
    "|user|count|\n",
    "|---------------|\n",
    "|chachafish|823201|\n",
    "|Your Village Maps|734747|\n",
    "|woodpeck_fixbot|340630|\n",
    "|GPS_dr|313217|\n",
    "|jjyach|309141|\n",
    "|DavidJDBA|186559|\n",
    "|Stevestr|170228|\n",
    "|CornCO|156123|\n",
    "|russdeffner|124346|\n",
    "|Berjoh|84235|"
   ]
  },
  {
   "cell_type": "markdown",
   "metadata": {},
   "source": [
    "### Number of users with less than 5 posts"
   ]
  },
  {
   "cell_type": "code",
   "execution_count": null,
   "metadata": {
    "collapsed": true
   },
   "outputs": [],
   "source": [
    "df6 = pd.read_sql_query('SELECT COUNT(*) \\\n",
    "                         FROM (SELECT x.user, COUNT(*) as num \\\n",
    "                         FROM (SELECT user FROM nodes UNION ALL \\\n",
    "                               SELECT user FROM ways) x \\\n",
    "                         GROUP BY x.user \\\n",
    "                         HAVING num < 10);', conn)\n",
    "print df6"
   ]
  },
  {
   "cell_type": "markdown",
   "metadata": {},
   "source": [
    "950"
   ]
  },
  {
   "cell_type": "markdown",
   "metadata": {},
   "source": [
    "## Additional Statistics\n",
    "\n",
    "With a total number of 4,848,499 entries, the top user chachafish contributed approximately 17%. It would appear that the spread of entry values is decently distributed. However with such a large amount of unique users, the bulk of entries are kept for the top 10 users. Overall the top 10 users account for near 67% of all entries. This means there are nearly 2,000 users contributing very little. Almost half of the users have less than 10 posts.\n",
    "\n",
    "I play a good amount of video games in my spare time. Observing the top 10 contributors table, to me it looks very similar to a leaderboard in a video game. To give some incentive for more posts, all it could take is to display that graph publicly somewhere on the open street map site. Any form of competition typically drives people to be at the top, even if it is just showing who the top contributors currently are."
   ]
  },
  {
   "cell_type": "markdown",
   "metadata": {},
   "source": [
    "## Ideas for Improvement\n",
    "\n",
    "Building on the idea of leaderboards from videogames from the top contributors query above. It may be useful to merge this data cleaning code with an actual game, the main one that comes to mind is the popular game Pokemon Go. Tons of users use this app as they walk around different locations from all areas of the world. If the developers could put in a \"Where did you find this Pokemon?\" feature, this could be combined with the street map data and the data cleaning code to imput mass amounts of locations. They could give points for incentive to discover new locations. This will have some advantages but also some disadvantages:\n",
    "\n",
    "|Advantages|Disadvantages|\n",
    "|----------|-------------|\n",
    "|Quickly gather Data|Possible wrong Data|\n",
    "|Data from all over the world|Areas without players would have less input|\n",
    "|More users instead of bots|May use more phone battery|"
   ]
  },
  {
   "cell_type": "markdown",
   "metadata": {},
   "source": [
    "### Top 10 Amenities"
   ]
  },
  {
   "cell_type": "code",
   "execution_count": null,
   "metadata": {
    "collapsed": true
   },
   "outputs": [],
   "source": [
    "df7 = pd.read_sql_query('SELECT tags.value, COUNT(*) as num \\\n",
    "                         FROM (SELECT * FROM nodes_tags UNION ALL \\\n",
    "                               SELECT * FROM ways_tags) tags  \\\n",
    "                         WHERE key = \"amenity\" \\\n",
    "                         GROUP BY tags.value \\\n",
    "                         ORDER BY num DESC \\\n",
    "                         LIMIT 10;', conn)\n",
    "print df7"
   ]
  },
  {
   "cell_type": "markdown",
   "metadata": {},
   "source": [
    "|value|num|\n",
    "|--------|\n",
    "|parking|16809|\n",
    "|restaurant|2294|\n",
    "|school|1507|\n",
    "|fast_food|1075|\n",
    "|bench|963|\n",
    "|place_of_worship|959|\n",
    "|bicycle_parking|919|\n",
    "|fuel|752|\n",
    "|shelter|622|\n",
    "|bank|543|"
   ]
  },
  {
   "cell_type": "markdown",
   "metadata": {},
   "source": [
    "### Top 5 Religions"
   ]
  },
  {
   "cell_type": "code",
   "execution_count": null,
   "metadata": {
    "collapsed": true
   },
   "outputs": [],
   "source": [
    "df8 = pd.read_sql_query('SELECT nodes_tags.value, COUNT(*) as num \\\n",
    "                         FROM nodes_tags \\\n",
    "                         WHERE nodes_tags.key=\"religion\" \\\n",
    "                         GROUP BY nodes_tags.value \\\n",
    "                         ORDER BY num DESC \\\n",
    "                         LIMIT 5;', conn)\n"
   ]
  },
  {
   "cell_type": "markdown",
   "metadata": {},
   "source": [
    "|value|num|\n",
    "|----------|\n",
    "|Christian|573|\n",
    "|Jewish|9|\n",
    "|Buddhist|4|\n",
    "|Muslim|3|\n",
    "|Multifaith|2|"
   ]
  },
  {
   "cell_type": "markdown",
   "metadata": {},
   "source": [
    "### Streets to live on if you like Mexican food"
   ]
  },
  {
   "cell_type": "code",
   "execution_count": null,
   "metadata": {
    "collapsed": true
   },
   "outputs": [],
   "source": [
    "df8 = pd.read_sql_query('SELECT nodes_tags.value, COUNT(*) as num \\\n",
    "                         FROM nodes_tags \\\n",
    "                         JOIN (SELECT DISTINCT(id) FROM nodes_tags \\\n",
    "                               WHERE value = \"mexican\") x \\\n",
    "                         ON nodes_tags.id = x.id \\\n",
    "                         WHERE nodes_tags.key=\"street\" \\\n",
    "                         GROUP BY nodes_tags.value \\\n",
    "                         ORDER BY num DESC \\\n",
    "                         LIMIT 5;', conn)"
   ]
  },
  {
   "cell_type": "markdown",
   "metadata": {},
   "source": [
    "|value|num|\n",
    "|-----------|\n",
    "|East Colfax Avenue|14|\n",
    "|      East Hampden Avenue    |5|\n",
    "|       Colorado Boulevard    |4|\n",
    "|  East Mississippi Avenue    |4|\n",
    "|        South Parker Road    |4|"
   ]
  },
  {
   "cell_type": "markdown",
   "metadata": {},
   "source": [
    "### Streets to live on if you like Beer"
   ]
  },
  {
   "cell_type": "code",
   "execution_count": null,
   "metadata": {
    "collapsed": true
   },
   "outputs": [],
   "source": [
    "df9 = pd.read_sql_query('SELECT nodes_tags.value, COUNT(*) as num \\\n",
    "                         FROM nodes_tags \\\n",
    "                         JOIN (SELECT DISTINCT(id) FROM nodes_tags \\\n",
    "                               WHERE value = \"pub\") x \\\n",
    "                         ON nodes_tags.id = x.id \\\n",
    "                         WHERE nodes_tags.key=\"street\" \\\n",
    "                         GROUP BY nodes_tags.value \\\n",
    "                         ORDER BY num DESC \\\n",
    "                         LIMIT 5;', conn)\n",
    "print df9"
   ]
  },
  {
   "cell_type": "markdown",
   "metadata": {},
   "source": [
    " |value|  num|\n",
    " |--------|\n",
    "|      Market Street  |  8|\n",
    "|       Blake Street   | 6|\n",
    "|    Tennyson Street    |4|\n",
    "|  East Iliff Avenue    |3|\n",
    "|        15th Street    |2|"
   ]
  },
  {
   "cell_type": "markdown",
   "metadata": {},
   "source": [
    "## Conclusion"
   ]
  },
  {
   "cell_type": "markdown",
   "metadata": {},
   "source": [
    "After cleaning and reviewing the data, it is apparent that there is still a large bulk of data that could use formatting. Further cleaning of the phone numbers could include separating the extensions from the actual phone number. Various beginnings of street names were not taken into consideration for the scope of this project however that should be the next focus for future improvements. Most, if not all of the top users appear to be programmed bots. If whatever programming the bots use was merged with the code for this project, the data could be input correctly in the first place. However then comes the difficulty of all the bots having the same format. Overall, the data that was cleaned proved useful for the scope of this project. I beleive if I ever do decide to move to Denver, I will most likely be living on Market Street."
   ]
  },
  {
   "cell_type": "code",
   "execution_count": null,
   "metadata": {
    "collapsed": true
   },
   "outputs": [],
   "source": []
  }
 ],
 "metadata": {
  "kernelspec": {
   "display_name": "Python [default]",
   "language": "python",
   "name": "python2"
  },
  "language_info": {
   "codemirror_mode": {
    "name": "ipython",
    "version": 2
   },
   "file_extension": ".py",
   "mimetype": "text/x-python",
   "name": "python",
   "nbconvert_exporter": "python",
   "pygments_lexer": "ipython2",
   "version": "2.7.13"
  }
 },
 "nbformat": 4,
 "nbformat_minor": 2
}
